{
 "cells": [
  {
   "cell_type": "code",
   "execution_count": 1,
   "metadata": {},
   "outputs": [
    {
     "name": "stdout",
     "output_type": "stream",
     "text": [
      "hello jupyter\n"
     ]
    }
   ],
   "source": [
    "print('hello jupyter')"
   ]
  },
  {
   "cell_type": "code",
   "execution_count": 16,
   "metadata": {},
   "outputs": [
    {
     "name": "stdout",
     "output_type": "stream",
     "text": [
      "Hello Jupyter !!\n"
     ]
    }
   ],
   "source": [
    "your_name = 'Jupyter'\n",
    "\n",
    "def hello(name):\n",
    "    print('Hello {0} !!'.format(name))\n",
    "hello(your_name)\n"
   ]
  },
  {
   "cell_type": "code",
   "execution_count": 10,
   "metadata": {},
   "outputs": [
    {
     "name": "stdout",
     "output_type": "stream",
     "text": [
      "Hello note book !!\n"
     ]
    }
   ],
   "source": [
    "hello('note book')"
   ]
  },
  {
   "cell_type": "code",
   "execution_count": 11,
   "metadata": {},
   "outputs": [
    {
     "data": {
      "text/plain": [
       "2.0"
      ]
     },
     "execution_count": 11,
     "metadata": {},
     "output_type": "execute_result"
    }
   ],
   "source": [
    "import math\n",
    "\n",
    "math.sqrt(4)"
   ]
  },
  {
   "cell_type": "code",
   "execution_count": 12,
   "metadata": {},
   "outputs": [
    {
     "data": {
      "text/plain": [
       "\u001b[0;31mDocstring:\u001b[0m\n",
       "sqrt(x)\n",
       "\n",
       "Return the square root of x.\n",
       "\u001b[0;31mType:\u001b[0m      builtin_function_or_method\n"
      ]
     },
     "metadata": {},
     "output_type": "display_data"
    }
   ],
   "source": [
    "math.sqrt?\n"
   ]
  },
  {
   "cell_type": "code",
   "execution_count": 15,
   "metadata": {},
   "outputs": [
    {
     "data": {
      "text/plain": [
       "'Jupyter'"
      ]
     },
     "execution_count": 15,
     "metadata": {},
     "output_type": "execute_result"
    }
   ],
   "source": [
    "your_name"
   ]
  },
  {
   "cell_type": "code",
   "execution_count": 19,
   "metadata": {},
   "outputs": [
    {
     "data": {
      "text/plain": [
       "'/notebooks/python'"
      ]
     },
     "execution_count": 19,
     "metadata": {},
     "output_type": "execute_result"
    }
   ],
   "source": [
    "%pwd\n"
   ]
  },
  {
   "cell_type": "code",
   "execution_count": 20,
   "metadata": {},
   "outputs": [
    {
     "name": "stdout",
     "output_type": "stream",
     "text": [
      "CPU times: user 0 ns, sys: 0 ns, total: 0 ns\n",
      "Wall time: 13.6 µs\n"
     ]
    }
   ],
   "source": [
    "%time"
   ]
  },
  {
   "cell_type": "code",
   "execution_count": 21,
   "metadata": {},
   "outputs": [
    {
     "name": "stdout",
     "output_type": "stream",
     "text": [
      "print('hello jupyter')\n",
      "print('hello jupyter'\n",
      "your_name = 'Jupyter'\n",
      "def hello(name)\n",
      "  print('hello {0} !!'.format(name))\n",
      "hello(your_name)\n",
      "your_name = 'Jupyter'\n",
      "def hello(name)\n",
      "    print('hello {0} !!'.format(name))\n",
      "hello(your_name)\n",
      "your_name = 'Jupyter'\n",
      "def hello(name)\n",
      "    print('hello {0} !!'.format(name))\n",
      "    \n",
      "hello(your_name)\n",
      "your_name = 'Jupyter'\n",
      "\n",
      "def hello(name)\n",
      "    print('hello {0} !!'.format(name))\n",
      "    \n",
      "hello(your_name)\n",
      "your_name = 'Jupyter'\n",
      "\n",
      "def hello(name)\n",
      "    print('hello {0} !!'.format(name))\n",
      "    \n",
      "hello(your_name)\n",
      "your_name = 'Jupyter'\n",
      "\n",
      "def hello(name):\n",
      "    print('hello {0} !!'.format(name))\n",
      "hello(your_name)\n",
      "your_name = 'Jupyter'\n",
      "\n",
      "def hello(name):\n",
      "    print('Hello {0} !!'.format(name))\n",
      "hello(your_name)\n",
      "hello('note book')\n",
      "import math\n",
      "\n",
      "math.sqrt(4)\n",
      "math.sqrt?\n",
      "your_name?\n",
      "your_name = 'Jupyter'\n",
      "\n",
      "def hello(name):\n",
      "    print('Hello {0} !!'.format(name))\n",
      "hello(your_name)\n",
      "your_name\n",
      "your_name = 'Jupyter'\n",
      "\n",
      "def hello(name):\n",
      "    print('Hello {0} !!'.format(name))\n",
      "hello(your_name)\n",
      "!pwd\n",
      "!conda list\n",
      "%pwd\n",
      "%time\n",
      "%history\n"
     ]
    }
   ],
   "source": [
    "%history"
   ]
  },
  {
   "cell_type": "code",
   "execution_count": null,
   "metadata": {},
   "outputs": [],
   "source": []
  }
 ],
 "metadata": {
  "kernelspec": {
   "display_name": "Python 3",
   "language": "python",
   "name": "python3"
  },
  "language_info": {
   "codemirror_mode": {
    "name": "ipython",
    "version": 3
   },
   "file_extension": ".py",
   "mimetype": "text/x-python",
   "name": "python",
   "nbconvert_exporter": "python",
   "pygments_lexer": "ipython3",
   "version": "3.6.3"
  }
 },
 "nbformat": 4,
 "nbformat_minor": 2
}
