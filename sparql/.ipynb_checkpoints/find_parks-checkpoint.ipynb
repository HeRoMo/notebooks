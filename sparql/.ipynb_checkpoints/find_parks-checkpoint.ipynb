{
 "cells": [
  {
   "cell_type": "markdown",
   "metadata": {},
   "source": [
    "# 公園を探す"
   ]
  },
  {
   "cell_type": "code",
   "execution_count": 2,
   "metadata": {},
   "outputs": [
    {
     "data": {
      "text/html": [
       "<div class=\"krn-spql\"><div class=\"magic\">Endpoint set to: http://ja.dbpedia.org/sparql</div><div class=\"magic\">Label preferred languages: ['ja']</div><div class=\"magic\">Return format: JSON</div><div class=\"magic\">Display: table</div></div>"
      ],
      "text/plain": [
       "Endpoint set to: http://ja.dbpedia.org/sparql\n",
       "Label preferred languages: ['ja']\n",
       "Return format: JSON\n",
       "Display: table\n"
      ]
     },
     "metadata": {},
     "output_type": "display_data"
    }
   ],
   "source": [
    "%endpoint http://ja.dbpedia.org/sparql\n",
    "%lang ja\n",
    "%format json\n",
    "%display table"
   ]
  },
  {
   "cell_type": "code",
   "execution_count": 74,
   "metadata": {},
   "outputs": [
    {
     "data": {
      "text/html": [
       "<div class=\"krn-spql\"><table><tr class=hdr><th>s</th></tr><tr class=odd><td class=val><a href=\"http://ja.dbpedia.org/resource/井上公園_(山口市)\" target=\"_other\">http://ja.dbpedia.org/resource/井上公園_(山口市)</a></td></tr><tr class=even><td class=val><a href=\"http://ja.dbpedia.org/resource/城北公園\" target=\"_other\">http://ja.dbpedia.org/resource/城北公園</a></td></tr><tr class=odd><td class=val><a href=\"http://ja.dbpedia.org/resource/猿島\" target=\"_other\">http://ja.dbpedia.org/resource/猿島</a></td></tr><tr class=even><td class=val><a href=\"http://ja.dbpedia.org/resource/舞鶴自然文化園\" target=\"_other\">http://ja.dbpedia.org/resource/舞鶴自然文化園</a></td></tr><tr class=odd><td class=val><a href=\"http://ja.dbpedia.org/resource/舞鶴親海公園\" target=\"_other\">http://ja.dbpedia.org/resource/舞鶴親海公園</a></td></tr><tr class=even><td class=val><a href=\"http://ja.dbpedia.org/resource/須磨離宮公園\" target=\"_other\">http://ja.dbpedia.org/resource/須磨離宮公園</a></td></tr><tr class=odd><td class=val><a href=\"http://ja.dbpedia.org/resource/北の丸公園\" target=\"_other\">http://ja.dbpedia.org/resource/北の丸公園</a></td></tr><tr class=even><td class=val><a href=\"http://ja.dbpedia.org/resource/山梨県笛吹川フルーツ公園\" target=\"_other\">http://ja.dbpedia.org/resource/山梨県笛吹川フルーツ公園</a></td></tr><tr class=odd><td class=val><a href=\"http://ja.dbpedia.org/resource/岩鼻運動公園\" target=\"_other\">http://ja.dbpedia.org/resource/岩鼻運動公園</a></td></tr><tr class=even><td class=val><a href=\"http://ja.dbpedia.org/resource/東舞鶴公園\" target=\"_other\">http://ja.dbpedia.org/resource/東舞鶴公園</a></td></tr><tr class=odd><td class=val><a href=\"http://ja.dbpedia.org/resource/柏の葉公園\" target=\"_other\">http://ja.dbpedia.org/resource/柏の葉公園</a></td></tr><tr class=even><td class=val><a href=\"http://ja.dbpedia.org/resource/植村直己記念スポーツ公園\" target=\"_other\">http://ja.dbpedia.org/resource/植村直己記念スポーツ公園</a></td></tr><tr class=odd><td class=val><a href=\"http://ja.dbpedia.org/resource/物見山_(埼玉県東松山市)\" target=\"_other\">http://ja.dbpedia.org/resource/物見山_(埼玉県東松山市)</a></td></tr><tr class=even><td class=val><a href=\"http://ja.dbpedia.org/resource/相楽園\" target=\"_other\">http://ja.dbpedia.org/resource/相楽園</a></td></tr><tr class=odd><td class=val><a href=\"http://ja.dbpedia.org/resource/袖ケ浦海浜公園\" target=\"_other\">http://ja.dbpedia.org/resource/袖ケ浦海浜公園</a></td></tr><tr class=even><td class=val><a href=\"http://ja.dbpedia.org/resource/通津美が浦公園\" target=\"_other\">http://ja.dbpedia.org/resource/通津美が浦公園</a></td></tr><tr class=odd><td class=val><a href=\"http://ja.dbpedia.org/resource/尾関山公園\" target=\"_other\">http://ja.dbpedia.org/resource/尾関山公園</a></td></tr><tr class=even><td class=val><a href=\"http://ja.dbpedia.org/resource/平和公園_(青森市)\" target=\"_other\">http://ja.dbpedia.org/resource/平和公園_(青森市)</a></td></tr><tr class=odd><td class=val><a href=\"http://ja.dbpedia.org/resource/彦根市荒神山公園\" target=\"_other\">http://ja.dbpedia.org/resource/彦根市荒神山公園</a></td></tr><tr class=even><td class=val><a href=\"http://ja.dbpedia.org/resource/浦添運動公園\" target=\"_other\">http://ja.dbpedia.org/resource/浦添運動公園</a></td></tr></table><div class=\"tinfo\">Total: 1414, Shown: 20</div></div>"
      ]
     },
     "metadata": {},
     "output_type": "display_data"
    }
   ],
   "source": [
    "PREFIX : <http://ja.dbpedia.org/resource/>\n",
    "PREFIX rdf-schema: <http://www.w3.org/2000/01/rdf-schema#>\n",
    "PREFIX syntax: <http://www.w3.org/1999/02/22-rdf-syntax-ns#>\n",
    "PREFIX onto: <http://dbpedia.org/ontology/>\n",
    "\n",
    "SELECT DISTINCT *\n",
    "WHERE { \n",
    "#     ?s syntax:type rdf-schema:Park .\n",
    "    ?s rdf:type onto:Park .\n",
    "#     FILTER CONTAINS(?p != \"\" )\n",
    "}\n",
    "# LIMIT 100\n",
    "# OFFSET 0"
   ]
  },
  {
   "cell_type": "code",
   "execution_count": 16,
   "metadata": {},
   "outputs": [
    {
     "data": {
      "text/html": [
       "<div class=\"krn-spql\"><table><tr class=hdr><th>name</th>\n",
       "<th>label</th></tr><tr class=odd><td class=val><a href=\"http://ja.dbpedia.org/resource/公園にいきましょう\" target=\"_other\">http://ja.dbpedia.org/resource/公園にいきましょう</a></td>\n",
       "<td class=val>公園にいきましょう</td></tr><tr class=even><td class=val><a href=\"http://ja.dbpedia.org/resource/公園口駅\" target=\"_other\">http://ja.dbpedia.org/resource/公園口駅</a></td>\n",
       "<td class=val>公園口駅</td></tr><tr class=odd><td class=val><a href=\"http://ja.dbpedia.org/resource/小国町民総合スポーツ公園\" target=\"_other\">http://ja.dbpedia.org/resource/小国町民総合スポーツ公園</a></td>\n",
       "<td class=val>小国町民総合スポーツ公園</td></tr><tr class=even><td class=val><a href=\"http://ja.dbpedia.org/resource/あぶくま親水公園\" target=\"_other\">http://ja.dbpedia.org/resource/あぶくま親水公園</a></td>\n",
       "<td class=val>あぶくま親水公園</td></tr><tr class=odd><td class=val><a href=\"http://ja.dbpedia.org/resource/柏の宮公園\" target=\"_other\">http://ja.dbpedia.org/resource/柏の宮公園</a></td>\n",
       "<td class=val>柏の宮公園</td></tr><tr class=even><td class=val><a href=\"http://ja.dbpedia.org/resource/芳川公園\" target=\"_other\">http://ja.dbpedia.org/resource/芳川公園</a></td>\n",
       "<td class=val>芳川公園</td></tr><tr class=odd><td class=val><a href=\"http://ja.dbpedia.org/resource/平和記念公園\" target=\"_other\">http://ja.dbpedia.org/resource/平和記念公園</a></td>\n",
       "<td class=val>平和記念公園</td></tr><tr class=even><td class=val><a href=\"http://ja.dbpedia.org/resource/海上公園\" target=\"_other\">http://ja.dbpedia.org/resource/海上公園</a></td>\n",
       "<td class=val>海上公園</td></tr><tr class=odd><td class=val><a href=\"http://ja.dbpedia.org/resource/インタノン山国立公園\" target=\"_other\">http://ja.dbpedia.org/resource/インタノン山国立公園</a></td>\n",
       "<td class=val>インタノン山国立公園</td></tr><tr class=even><td class=val><a href=\"http://ja.dbpedia.org/resource/パヌルル国立公園\" target=\"_other\">http://ja.dbpedia.org/resource/パヌルル国立公園</a></td>\n",
       "<td class=val>パヌルル国立公園</td></tr><tr class=odd><td class=val><a href=\"http://ja.dbpedia.org/resource/亀岡市民運動公園\" target=\"_other\">http://ja.dbpedia.org/resource/亀岡市民運動公園</a></td>\n",
       "<td class=val>亀岡市民運動公園</td></tr><tr class=even><td class=val><a href=\"http://ja.dbpedia.org/resource/井の頭公園\" target=\"_other\">http://ja.dbpedia.org/resource/井の頭公園</a></td>\n",
       "<td class=val>井の頭公園</td></tr><tr class=odd><td class=val><a href=\"http://ja.dbpedia.org/resource/井の頭自然公園\" target=\"_other\">http://ja.dbpedia.org/resource/井の頭自然公園</a></td>\n",
       "<td class=val>井の頭自然公園</td></tr><tr class=even><td class=val><a href=\"http://ja.dbpedia.org/resource/住吉公園駅\" target=\"_other\">http://ja.dbpedia.org/resource/住吉公園駅</a></td>\n",
       "<td class=val>住吉公園駅</td></tr><tr class=odd><td class=val><a href=\"http://ja.dbpedia.org/resource/元町・中華街（山下公園）駅\" target=\"_other\">http://ja.dbpedia.org/resource/元町・中華街（山下公園）駅</a></td>\n",
       "<td class=val>元町・中華街（山下公園）駅</td></tr><tr class=even><td class=val><a href=\"http://ja.dbpedia.org/resource/動物公園駅_(千葉県)\" target=\"_other\">http://ja.dbpedia.org/resource/動物公園駅_(千葉県)</a></td>\n",
       "<td class=val>動物公園駅 (千葉県)</td></tr><tr class=odd><td class=val><a href=\"http://ja.dbpedia.org/resource/南長野運動公園野球場\" target=\"_other\">http://ja.dbpedia.org/resource/南長野運動公園野球場</a></td>\n",
       "<td class=val>南長野運動公園野球場</td></tr><tr class=even><td class=val><a href=\"http://ja.dbpedia.org/resource/広島広域運動公園陸上競技場\" target=\"_other\">http://ja.dbpedia.org/resource/広島広域運動公園陸上競技場</a></td>\n",
       "<td class=val>広島広域運動公園陸上競技場</td></tr><tr class=odd><td class=val><a href=\"http://ja.dbpedia.org/resource/弘道館公園\" target=\"_other\">http://ja.dbpedia.org/resource/弘道館公園</a></td>\n",
       "<td class=val>弘道館公園</td></tr><tr class=even><td class=val><a href=\"http://ja.dbpedia.org/resource/明石公園野球場\" target=\"_other\">http://ja.dbpedia.org/resource/明石公園野球場</a></td>\n",
       "<td class=val>明石公園野球場</td></tr></table><div class=\"tinfo\">Total: 100, Shown: 20</div></div>"
      ]
     },
     "metadata": {},
     "output_type": "display_data"
    }
   ],
   "source": [
    "PREFIX : <http://ja.dbpedia.org/resource/>\n",
    "PREFIX rdf-schema: <http://www.w3.org/2000/01/rdf-schema#>\n",
    "\n",
    "select distinct * where { \n",
    "    ?name rdf-schema:label ?label .  \n",
    "    FILTER CONTAINS(?label, \"公園\")\n",
    "}\n",
    "LIMIT 100\n",
    "OFFSET 0"
   ]
  }
 ],
 "metadata": {
  "kernelspec": {
   "display_name": "SPARQL",
   "language": "",
   "name": "sparql"
  },
  "language_info": {
   "codemirror_mode": {
    "name": "sparql"
   },
   "mimetype": "application/sparql-query",
   "name": "sparql",
   "pygments_lexer": "sparql-nb"
  }
 },
 "nbformat": 4,
 "nbformat_minor": 2
}
