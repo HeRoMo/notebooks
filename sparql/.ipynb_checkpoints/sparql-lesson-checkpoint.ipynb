{
 "cells": [
  {
   "cell_type": "markdown",
   "metadata": {},
   "source": [
    "# SPARQL の練習"
   ]
  },
  {
   "cell_type": "code",
   "execution_count": 2,
   "metadata": {},
   "outputs": [
    {
     "data": {
      "text/html": [
       "<div class=\"krn-spql\"><div class=\"magic\">Endpoint set to: http://ja.dbpedia.org/sparql</div><div class=\"magic\">Label preferred languages: ['ja']</div><div class=\"magic\">Return format: JSON</div><div class=\"magic\">Display: table</div></div>"
      ],
      "text/plain": [
       "Endpoint set to: http://ja.dbpedia.org/sparql\n",
       "Label preferred languages: ['ja']\n",
       "Return format: JSON\n",
       "Display: table\n"
      ]
     },
     "metadata": {},
     "output_type": "display_data"
    },
    {
     "data": {
      "text/html": [
       "<div class=\"krn-spql\"><div class=\"krn-error\"><span class=\"title\">Error:</span> Query processing error: Remote end closed connection without response</div></div>"
      ],
      "text/plain": [
       "Error: Query processing error: Remote end closed connection without response"
      ]
     },
     "metadata": {},
     "output_type": "display_data"
    }
   ],
   "source": [
    "%endpoint http://ja.dbpedia.org/sparql\n",
    "%lang ja\n",
    "%format json\n",
    "%display table\n",
    "\n",
    "PREFIX : <http://ja.dbpedia.org/resource/>\n",
    "PREFIX rdfschema: <http://www.w3.org/2000/01/rdf-schema#>\n",
    "select \n",
    "distinct * \n",
    "where { ?s rdfschema:label \"公園\" .  } \n",
    "LIMIT 100\n"
   ]
  },
  {
   "cell_type": "code",
   "execution_count": null,
   "metadata": {},
   "outputs": [],
   "source": []
  },
  {
   "cell_type": "code",
   "execution_count": null,
   "metadata": {},
   "outputs": [],
   "source": []
  }
 ],
 "metadata": {
  "kernelspec": {
   "display_name": "SPARQL",
   "language": "",
   "name": "sparql"
  },
  "language_info": {
   "codemirror_mode": {
    "name": "sparql"
   },
   "mimetype": "application/sparql-query",
   "name": "sparql",
   "pygments_lexer": "sparql-nb"
  }
 },
 "nbformat": 4,
 "nbformat_minor": 2
}
