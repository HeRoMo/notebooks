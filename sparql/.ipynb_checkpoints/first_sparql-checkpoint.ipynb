{
 "cells": [
  {
   "cell_type": "markdown",
   "metadata": {},
   "source": [
    "# SPARQLの勉強"
   ]
  },
  {
   "cell_type": "code",
   "execution_count": 18,
   "metadata": {},
   "outputs": [
    {
     "data": {
      "text/html": [
       "<div class=\"krn-spql\"><div class=\"magic\">Endpoint set to: http://ja.dbpedia.org/sparql</div><div class=\"magic\">Label preferred languages: ['ja']</div><div class=\"magic\">Return format: JSON</div><div class=\"magic\">Display: table</div></div>"
      ],
      "text/plain": [
       "Endpoint set to: http://ja.dbpedia.org/sparql\n",
       "Label preferred languages: ['ja']\n",
       "Return format: JSON\n",
       "Display: table\n"
      ]
     },
     "metadata": {},
     "output_type": "display_data"
    }
   ],
   "source": [
    "%endpoint http://ja.dbpedia.org/sparql\n",
    "%lang ja\n",
    "%format json\n",
    "%display table"
   ]
  },
  {
   "cell_type": "code",
   "execution_count": 19,
   "metadata": {},
   "outputs": [
    {
     "data": {
      "text/html": [
       "<div class=\"krn-spql\"><table><tr class=hdr><th>birth_date</th></tr><tr class=odd><td class=val>1947-01-18</td></tr></table><div class=\"tinfo\">Total: 1, Shown: 1</div></div>"
      ]
     },
     "metadata": {},
     "output_type": "display_data"
    }
   ],
   "source": [
    "PREFIX dbpedia-ja: <http://ja.dbpedia.org/resource/>\n",
    "PREFIX dbpedia-awl: <http://dbpedia.org/ontology/>\n",
    "\n",
    "SELECT ?birth_date\n",
    "WHERE\n",
    "{ dbpedia-ja:ビートたけし dbpedia-owl:birthDate ?birth_date .}"
   ]
  },
  {
   "cell_type": "code",
   "execution_count": 20,
   "metadata": {},
   "outputs": [
    {
     "data": {
      "text/html": [
       "<div class=\"krn-spql\"><table><tr class=hdr><th>company</th>\n",
       "<th>member_of_employees</th></tr><tr class=odd><td class=val><a href=\"http://ja.dbpedia.org/resource/太田プロダクション\" target=\"_other\">http://ja.dbpedia.org/resource/太田プロダクション</a></td>\n",
       "<td class=val></td></tr></table><div class=\"tinfo\">Total: 1, Shown: 1</div></div>"
      ]
     },
     "metadata": {},
     "output_type": "display_data"
    }
   ],
   "source": [
    "SELECT ?company ?member_of_employees \n",
    "WHERE {\n",
    "    dbpedia-ja:ビートたけし dbpedia-owl:company ?company .\n",
    "    ?company dbpedia-owl:numberOfEmployees ?number_of_employees .\n",
    "}"
   ]
  },
  {
   "cell_type": "code",
   "execution_count": null,
   "metadata": {},
   "outputs": [],
   "source": []
  }
 ],
 "metadata": {
  "kernelspec": {
   "display_name": "SPARQL",
   "language": "",
   "name": "sparql"
  },
  "language_info": {
   "codemirror_mode": {
    "name": "sparql"
   },
   "mimetype": "application/sparql-query",
   "name": "sparql",
   "pygments_lexer": "sparql-nb"
  }
 },
 "nbformat": 4,
 "nbformat_minor": 2
}
