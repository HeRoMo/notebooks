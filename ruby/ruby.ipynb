{
 "cells": [
  {
   "cell_type": "markdown",
   "metadata": {},
   "source": [
    "# Hot does it work / Ruby"
   ]
  },
  {
   "cell_type": "markdown",
   "metadata": {},
   "source": [
    "## ハッシュのマージ"
   ]
  },
  {
   "cell_type": "code",
   "execution_count": 4,
   "metadata": {},
   "outputs": [
    {
     "name": "stdout",
     "output_type": "stream",
     "text": [
      "{:a=>1, :b=>2, :c=>3}\n",
      "{:c=>13, :d=>14, :e=>15}\n",
      "{:a=>1, :b=>2, :c=>13, :d=>14, :e=>15}\n"
     ]
    }
   ],
   "source": [
    "a = {a:1, b:2, c:3}\n",
    "b = {c:13, d:14, e:15}\n",
    "c = a.merge(b)\n",
    "\n",
    "puts a # aは書き換えられない\n",
    "puts b # bも書き換えられない\n",
    "puts c "
   ]
  }
 ],
 "metadata": {
  "kernelspec": {
   "display_name": "Ruby 2.4.2",
   "language": "ruby",
   "name": "ruby"
  },
  "language_info": {
   "file_extension": ".rb",
   "mimetype": "application/x-ruby",
   "name": "ruby",
   "version": "2.4.2"
  }
 },
 "nbformat": 4,
 "nbformat_minor": 2
}
