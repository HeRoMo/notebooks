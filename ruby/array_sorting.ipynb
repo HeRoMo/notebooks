{
 "cells": [
  {
   "cell_type": "markdown",
   "metadata": {},
   "source": [
    "# 配列のソート"
   ]
  },
  {
   "cell_type": "markdown",
   "metadata": {},
   "source": [
    "## 基本"
   ]
  },
  {
   "cell_type": "code",
   "execution_count": 9,
   "metadata": {},
   "outputs": [
    {
     "data": {
      "text/plain": [
       "[1, 2, 3, 4, 5, 6, 7, 8, 9, 10]"
      ]
     },
     "execution_count": 9,
     "metadata": {},
     "output_type": "execute_result"
    }
   ],
   "source": [
    "numbers = [7, 2, 4, 9, 10, 1, 5, 8, 6, 3]\n",
    "numbers.sort"
   ]
  },
  {
   "cell_type": "markdown",
   "metadata": {},
   "source": [
    "## ブロックを渡す\n",
    "ブロックを渡すと並べ替えのルールを指定できる。"
   ]
  },
  {
   "cell_type": "code",
   "execution_count": 10,
   "metadata": {},
   "outputs": [
    {
     "data": {
      "text/plain": [
       "[10, 9, 8, 7, 6, 5, 4, 3, 2, 1]"
      ]
     },
     "execution_count": 10,
     "metadata": {},
     "output_type": "execute_result"
    }
   ],
   "source": [
    "numbers = [2, 8, 7, 3, 6, 10, 1, 4, 5, 9]\n",
    "numbers.sort {|a, b| b <=> a }"
   ]
  },
  {
   "cell_type": "markdown",
   "metadata": {},
   "source": [
    "`<=>` は演算子で、2つの要素の順番を調べる。左辺が先なら-1、同じなら0、右辺が先なら1を返す。<br>\n",
    "要素が文字列の場合、辞書的な順番となる。\n"
   ]
  },
  {
   "cell_type": "markdown",
   "metadata": {},
   "source": [
    "## 配列内のインデックスを取得する"
   ]
  },
  {
   "cell_type": "code",
   "execution_count": 11,
   "metadata": {},
   "outputs": [
    {
     "data": {
      "text/plain": [
       "2"
      ]
     },
     "execution_count": 11,
     "metadata": {},
     "output_type": "execute_result"
    }
   ],
   "source": [
    "a = [\n",
    "    {a:1, b:2},\n",
    "    {a:3, b:1},\n",
    "    {a:4, b:4},\n",
    "    {a:1, b:3},\n",
    "    ]\n",
    "a.index{ |item| item[:a] == 4}"
   ]
  },
  {
   "cell_type": "markdown",
   "metadata": {},
   "source": [
    "## 指定した順に並べ替える\n",
    "大小を比較するルールに従った並べかたでなく、かっちり順番を指定する方法"
   ]
  },
  {
   "cell_type": "code",
   "execution_count": 12,
   "metadata": {},
   "outputs": [
    {
     "data": {
      "text/plain": [
       "[{:id=>1, :name=>\"a\"}, {:id=>2, :name=>\"b\"}, {:id=>3, :name=>\"c\"}, {:id=>4, :name=>\"d\"}, {:id=>5, :name=>\"e\"}]"
      ]
     },
     "execution_count": 12,
     "metadata": {},
     "output_type": "execute_result"
    }
   ],
   "source": [
    "a = [\n",
    "    {id:1, name:'a'},\n",
    "    {id:2, name:'b'},\n",
    "    {id:3, name:'c'},\n",
    "    {id:4, name:'d'},\n",
    "    {id:5, name:'e'}\n",
    "    ]"
   ]
  },
  {
   "cell_type": "code",
   "execution_count": 13,
   "metadata": {},
   "outputs": [
    {
     "data": {
      "text/plain": [
       "[{:id=>3, :name=>\"c\"}, {:id=>2, :name=>\"b\"}, {:id=>4, :name=>\"d\"}, {:id=>1, :name=>\"a\"}, {:id=>5, :name=>\"e\"}]"
      ]
     },
     "execution_count": 13,
     "metadata": {},
     "output_type": "execute_result"
    }
   ],
   "source": [
    "sort_order = [3,2,4,1,5] # id でソート\n",
    "sorted = a.sort_by{|e| sort_order.index(e[:id])}"
   ]
  },
  {
   "cell_type": "code",
   "execution_count": 14,
   "metadata": {},
   "outputs": [
    {
     "data": {
      "text/plain": [
       "[{:id=>2, :name=>\"b\"}, {:id=>3, :name=>\"c\"}, {:id=>1, :name=>\"a\"}, {:id=>5, :name=>\"e\"}, {:id=>4, :name=>\"d\"}]"
      ]
     },
     "execution_count": 14,
     "metadata": {},
     "output_type": "execute_result"
    }
   ],
   "source": [
    "sort_order = ['b','c','a','e','d'] # name でソート\n",
    "sorted = a.sort_by{|e| sort_order.index(e[:name])}"
   ]
  },
  {
   "cell_type": "markdown",
   "metadata": {},
   "source": [
    "**memo** sort_by はブロックを実行して、戻り値を `<=>` で比較しソートする"
   ]
  },
  {
   "cell_type": "markdown",
   "metadata": {},
   "source": [
    "### sort_orderにない要素が、並べ替え対象に存在するとエラーとなる。"
   ]
  },
  {
   "cell_type": "code",
   "execution_count": 15,
   "metadata": {},
   "outputs": [
    {
     "ename": "ArgumentError",
     "evalue": "comparison of NilClass with 0 failed",
     "execution_count": 15,
     "output_type": "error",
     "status": "error",
     "traceback": [
      "\u001b[31mArgumentError\u001b[0m: comparison of NilClass with 0 failed",
      "\u001b[37m<main>:1:in `sort_by'\u001b[0m",
      "\u001b[37m<main>:1:in `<main>'\u001b[0m",
      "\u001b[37m/root/.rbenv/versions/2.4.2/lib/ruby/gems/2.4.0/gems/iruby-0.3/lib/iruby/backend.rb:44:in `eval'\u001b[0m",
      "\u001b[37m/root/.rbenv/versions/2.4.2/lib/ruby/gems/2.4.0/gems/iruby-0.3/lib/iruby/backend.rb:44:in `eval'\u001b[0m",
      "\u001b[37m/root/.rbenv/versions/2.4.2/lib/ruby/gems/2.4.0/gems/iruby-0.3/lib/iruby/backend.rb:12:in `eval'\u001b[0m",
      "\u001b[37m/root/.rbenv/versions/2.4.2/lib/ruby/gems/2.4.0/gems/iruby-0.3/lib/iruby/kernel.rb:87:in `execute_request'\u001b[0m",
      "\u001b[37m/root/.rbenv/versions/2.4.2/lib/ruby/gems/2.4.0/gems/iruby-0.3/lib/iruby/kernel.rb:47:in `dispatch'\u001b[0m",
      "\u001b[37m/root/.rbenv/versions/2.4.2/lib/ruby/gems/2.4.0/gems/iruby-0.3/lib/iruby/kernel.rb:37:in `run'\u001b[0m",
      "\u001b[37m/root/.rbenv/versions/2.4.2/lib/ruby/gems/2.4.0/gems/iruby-0.3/lib/iruby/command.rb:70:in `run_kernel'\u001b[0m",
      "\u001b[37m/root/.rbenv/versions/2.4.2/lib/ruby/gems/2.4.0/gems/iruby-0.3/lib/iruby/command.rb:34:in `run'\u001b[0m",
      "\u001b[37m/root/.rbenv/versions/2.4.2/lib/ruby/gems/2.4.0/gems/iruby-0.3/bin/iruby:5:in `<top (required)>'\u001b[0m",
      "\u001b[37m/root/.rbenv/versions/2.4.2/bin/iruby:23:in `load'\u001b[0m",
      "\u001b[37m/root/.rbenv/versions/2.4.2/bin/iruby:23:in `<main>'\u001b[0m"
     ]
    }
   ],
   "source": [
    "sort_order = ['b','c','e','d'] # name でソート\n",
    "a.sort_by{|e| sort_order.index(e[:name])}"
   ]
  },
  {
   "cell_type": "code",
   "execution_count": 16,
   "metadata": {},
   "outputs": [
    {
     "data": {
      "text/plain": [
       "[{:id=>3, :name=>\"c\"}, {:id=>5, :name=>\"e\"}, {:id=>4, :name=>\"d\"}, {:id=>1, :name=>\"a\"}, {:id=>2, :name=>\"b\"}]"
      ]
     },
     "execution_count": 16,
     "metadata": {},
     "output_type": "execute_result"
    }
   ],
   "source": [
    "sort_order = ['c','e','d'] # name でソート\n",
    "a.sort_by{|e| sort_order.index(e[:name])||a.length} # ||a.length はエラーにならないように予防的な処置"
   ]
  },
  {
   "cell_type": "markdown",
   "metadata": {},
   "source": [
    "#### 逆に並べ替え対象にない要素が、`sort_order`にあってもOK"
   ]
  },
  {
   "cell_type": "code",
   "execution_count": 17,
   "metadata": {},
   "outputs": [
    {
     "data": {
      "text/plain": [
       "[{:id=>2, :name=>\"b\"}, {:id=>3, :name=>\"c\"}, {:id=>1, :name=>\"a\"}, {:id=>5, :name=>\"e\"}, {:id=>4, :name=>\"d\"}]"
      ]
     },
     "execution_count": 17,
     "metadata": {},
     "output_type": "execute_result"
    }
   ],
   "source": [
    "sort_order = ['z','b','c','a','e','d'] # name でソート\n",
    "a.sort_by{|e| sort_order.index(e[:name])}"
   ]
  },
  {
   "cell_type": "markdown",
   "metadata": {},
   "source": [
    "## おまけ ActiveRecord ＋ MySQL"
   ]
  },
  {
   "cell_type": "markdown",
   "metadata": {},
   "source": [
    "DBがMySQLなら、次のようにして与えた `ids` の要素の並び順どおりにソートされたインスタンスのリストを取得できる\n",
    "```ruby\n",
    "Model.where(id: ids).order(['field(id, ?)', ids])\n",
    "```"
   ]
  },
  {
   "cell_type": "code",
   "execution_count": null,
   "metadata": {},
   "outputs": [],
   "source": []
  }
 ],
 "metadata": {
  "kernelspec": {
   "display_name": "Ruby 2.4.2",
   "language": "ruby",
   "name": "ruby"
  },
  "language_info": {
   "file_extension": ".rb",
   "mimetype": "application/x-ruby",
   "name": "ruby",
   "version": "2.4.2"
  }
 },
 "nbformat": 4,
 "nbformat_minor": 2
}
