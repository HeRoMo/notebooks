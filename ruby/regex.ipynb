{
 "cells": [
  {
   "cell_type": "markdown",
   "metadata": {},
   "source": [
    "# 正規表現"
   ]
  },
  {
   "cell_type": "code",
   "execution_count": 1,
   "metadata": {},
   "outputs": [
    {
     "data": {
      "text/plain": [
       "\"106 examples, 1 failure, 14 pending\""
      ]
     },
     "execution_count": 1,
     "metadata": {},
     "output_type": "execute_result"
    }
   ],
   "source": [
    "sum1 = \"47 examples, 0 failures\"\n",
    "sum2 = \"106 examples, 0 failures, 14 pending\"\n",
    "sum3 = \"106 examples, 1 failure, 14 pending\""
   ]
  },
  {
   "cell_type": "markdown",
   "metadata": {},
   "source": [
    "##  名前付きキャプチャ\n",
    "\n",
    "後方参照する場合に、キャプチャ順にインデックスを指定して参照することもできるが、\n",
    "正規表現が変わった時にインデックも変わるなど不便。<br>\n",
    "`?<参照名>` を付けておくと、後で名前指定で参照でき便利。"
   ]
  },
  {
   "cell_type": "code",
   "execution_count": 11,
   "metadata": {},
   "outputs": [
    {
     "name": "stdout",
     "output_type": "stream",
     "text": [
      "47 examples, 0 failures\n",
      "47\n",
      "0\n"
     ]
    }
   ],
   "source": [
    "reg = /(?<examples>[0-9]+) examples, (?<failures>[0-9]+) failures?(, (?<pending>[0-9]+) pending)?/\n",
    "m = reg.match(sum1)\n",
    "puts m\n",
    "puts m[:examples]\n",
    "puts m[:failures]"
   ]
  },
  {
   "cell_type": "markdown",
   "metadata": {},
   "source": [
    "もちろん、インデックスでアクセスも可能"
   ]
  },
  {
   "cell_type": "code",
   "execution_count": 12,
   "metadata": {},
   "outputs": [
    {
     "name": "stdout",
     "output_type": "stream",
     "text": [
      "47\n",
      "0\n"
     ]
    }
   ],
   "source": [
    "puts m[1]\n",
    "puts m[2]"
   ]
  }
 ],
 "metadata": {
  "kernelspec": {
   "display_name": "Ruby 2.4.2",
   "language": "ruby",
   "name": "ruby"
  },
  "language_info": {
   "file_extension": ".rb",
   "mimetype": "application/x-ruby",
   "name": "ruby",
   "version": "2.4.2"
  }
 },
 "nbformat": 4,
 "nbformat_minor": 2
}
